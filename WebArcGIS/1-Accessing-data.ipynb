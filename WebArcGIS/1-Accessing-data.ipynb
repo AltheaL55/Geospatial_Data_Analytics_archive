{
 "cells": [
  {
   "cell_type": "markdown",
   "metadata": {},
   "source": [
    "# Section 1 - Accessing data sets using Python\n",
    "_Complete the following Python tasks. Comments aren't required but they can be helpful in awarding partial credit if you fail to get the correct answer._"
   ]
  },
  {
   "cell_type": "markdown",
   "metadata": {},
   "source": [
    "## Task 1: Reading local files into Python\n",
    "* Reference:  `00-Importing-Local-Files.ipynb` in the `GettingData` repository. \n",
    "* In the interest of time, `1a`(_csv_) and `1b` (_Numpy_) are provided for you; **you must complete `1c` (_Pandas_)**."
   ]
  },
  {
   "cell_type": "markdown",
   "metadata": {},
   "source": [
    "### Task 1a: Importing a local csv file using base Python (_Demo_)\n",
    "Read the contents of the tab-delimited file `SaraTheTurtle.txt` (located in the data folder) into a list of line items such that you can easily retrieve values in specific rows and columns. Use either Python's file object or the built-in csv module. \n",
    "\n",
    "_If you have trouble with the tab-delimited file, try using the comma-delimited version `SaraTheTurtle.csv`, though this will cost you a penalty._\n",
    "\n",
    "Then report the value in the **10th row** (*excluding* the header data, i.e. the 11th row of the file) and **6th column**."
   ]
  },
  {
   "cell_type": "code",
   "execution_count": 1,
   "metadata": {},
   "outputs": [],
   "source": [
    "#Set the filename\n",
    "theFilename = '../data/SaraTheTurtle.txt'"
   ]
  },
  {
   "cell_type": "code",
   "execution_count": 3,
   "metadata": {},
   "outputs": [],
   "source": [
    "#Read the file into a list of line items\n",
    "theDataLines = open(theFilename,'r').readlines()\n",
    "\n",
    "#Create an empty list to hold the lines of data\n",
    "theData = []\n",
    "\n",
    "#Iterate through each line of text and add a list of values to theData list\n",
    "for theLine in theDataLines:\n",
    "    theData.append(theLine.strip().split('\\t'))\n",
    "    \n",
    "#Alternatively, you can use the \"list comprehension\" technique\n",
    "#theData = [theLine.strip().split('\\t') for theLine in theDataLines]"
   ]
  },
  {
   "cell_type": "code",
   "execution_count": 4,
   "metadata": {
    "scrolled": true
   },
   "outputs": [
    {
     "data": {
      "text/plain": [
       "'33.965'"
      ]
     },
     "execution_count": 4,
     "metadata": {},
     "output_type": "execute_result"
    }
   ],
   "source": [
    "#Reveal the value in the 10th row, 6th column\n",
    "theData[10][5]"
   ]
  },
  {
   "cell_type": "markdown",
   "metadata": {},
   "source": [
    "### Task 1b: Import using Numpy (_Demo_)\n",
    "Read in the same dataset, but this time using the Numpy package to read the data into a Numpy array, skipping the header row. \n",
    "\n",
    "Reveal the item in the 10th row, 6th column."
   ]
  },
  {
   "cell_type": "code",
   "execution_count": 5,
   "metadata": {},
   "outputs": [],
   "source": [
    "#Read the file into a Numpy array\n",
    "import numpy as np\n",
    "theData = np.genfromtxt(\n",
    "    fname=theFilename,\n",
    "    delimiter='\\t',\n",
    "    skip_header=True)"
   ]
  },
  {
   "cell_type": "code",
   "execution_count": 6,
   "metadata": {},
   "outputs": [
    {
     "data": {
      "text/plain": [
       "33.965"
      ]
     },
     "execution_count": 6,
     "metadata": {},
     "output_type": "execute_result"
    }
   ],
   "source": [
    "#Reveal the value in the 10th row, 6th column\n",
    "theData[9,5]"
   ]
  },
  {
   "cell_type": "markdown",
   "metadata": {},
   "source": [
    "### ►Task 1c: Import using Pandas◄\n",
    "Read in the same dataset, but this time using the Pandas package to read the data into a Pandas dataframe. \n",
    "\n",
    "After importing, reveal the item in the 10th row, 6th column (as above)."
   ]
  },
  {
   "cell_type": "code",
   "execution_count": 7,
   "metadata": {},
   "outputs": [],
   "source": [
    "#Read the file into Pandas dataframe\n",
    "import pandas as pd\n",
    "pdData = pd.read_csv(theFilename)"
   ]
  },
  {
   "cell_type": "code",
   "execution_count": 9,
   "metadata": {},
   "outputs": [
    {
     "data": {
      "text/plain": [
       "33.965"
      ]
     },
     "execution_count": 9,
     "metadata": {},
     "output_type": "execute_result"
    }
   ],
   "source": [
    "#Reveal the value in the 10th row, 6th column\n",
    "theData[9,5]"
   ]
  },
  {
   "cell_type": "markdown",
   "metadata": {},
   "source": [
    "---\n",
    "## Task 2. Reading remote text files into Python (using Pandas)\n",
    "* Reference: `1a-Getting-data-with-Pandas.ipynb` in the `GettingData` repository. "
   ]
  },
  {
   "cell_type": "markdown",
   "metadata": {},
   "source": [
    "### Task 2a. Import NWIS discharge data located at a web address:\n",
    "Using Pandas, read the **tab delimted** data located at the URL below into a dataframe:  \n",
    "http://waterdata.usgs.gov/nwis/uv?cb_00060=on&cb_00065=on&format=rdb&begin_date=2018-10-10&end_date=2018-10-13&site_no=02085070. \n",
    "\n",
    "\n",
    "\n",
    "→ _Be sure to omit metadata lines (i.e. the lines that begin with \"#\") & the data format line just below the header line.  \n",
    "&nbsp;&nbsp;&nbsp;&nbsp;(This is just as we did in the class exercise...)_\n",
    "\n",
    "Finally, display the first 5 rows in this dataframe using the pandas `head()` command. "
   ]
  },
  {
   "cell_type": "code",
   "execution_count": 12,
   "metadata": {},
   "outputs": [],
   "source": [
    "#Assign a variable to the URL\n",
    "theURL = 'https://nwis.waterdata.usgs.gov/usa/nwis/uv/?cb_00060=on&format=rdb&begin_date=2018-10-10&end_date=2018-10-13&site_no=02085070'"
   ]
  },
  {
   "cell_type": "code",
   "execution_count": 13,
   "metadata": {},
   "outputs": [],
   "source": [
    "#Read the remote data into a pandas dataframe, ommitting commented lines in the input file\n",
    "df=pd.read_csv(theURL, delimiter='\\t', comment='#')"
   ]
  },
  {
   "cell_type": "code",
   "execution_count": 14,
   "metadata": {},
   "outputs": [],
   "source": [
    "#Drop the first row in the dataframe as it contains metadata, not data\n",
    "df.drop(0,axis='rows',inplace=True)"
   ]
  },
  {
   "cell_type": "code",
   "execution_count": 11,
   "metadata": {
    "scrolled": true
   },
   "outputs": [
    {
     "data": {
      "text/html": [
       "<div>\n",
       "<style scoped>\n",
       "    .dataframe tbody tr th:only-of-type {\n",
       "        vertical-align: middle;\n",
       "    }\n",
       "\n",
       "    .dataframe tbody tr th {\n",
       "        vertical-align: top;\n",
       "    }\n",
       "\n",
       "    .dataframe thead th {\n",
       "        text-align: right;\n",
       "    }\n",
       "</style>\n",
       "<table border=\"1\" class=\"dataframe\">\n",
       "  <thead>\n",
       "    <tr style=\"text-align: right;\">\n",
       "      <th></th>\n",
       "      <th>agency_cd</th>\n",
       "      <th>site_no</th>\n",
       "      <th>datetime</th>\n",
       "      <th>tz_cd</th>\n",
       "      <th>89062_00060</th>\n",
       "      <th>89062_00060_cd</th>\n",
       "    </tr>\n",
       "  </thead>\n",
       "  <tbody>\n",
       "    <tr>\n",
       "      <th>1</th>\n",
       "      <td>USGS</td>\n",
       "      <td>02085070</td>\n",
       "      <td>2018-10-10 00:00</td>\n",
       "      <td>EDT</td>\n",
       "      <td>27.8</td>\n",
       "      <td>A</td>\n",
       "    </tr>\n",
       "    <tr>\n",
       "      <th>2</th>\n",
       "      <td>USGS</td>\n",
       "      <td>02085070</td>\n",
       "      <td>2018-10-10 00:15</td>\n",
       "      <td>EDT</td>\n",
       "      <td>27.8</td>\n",
       "      <td>A</td>\n",
       "    </tr>\n",
       "    <tr>\n",
       "      <th>3</th>\n",
       "      <td>USGS</td>\n",
       "      <td>02085070</td>\n",
       "      <td>2018-10-10 00:30</td>\n",
       "      <td>EDT</td>\n",
       "      <td>27.8</td>\n",
       "      <td>A</td>\n",
       "    </tr>\n",
       "    <tr>\n",
       "      <th>4</th>\n",
       "      <td>USGS</td>\n",
       "      <td>02085070</td>\n",
       "      <td>2018-10-10 00:45</td>\n",
       "      <td>EDT</td>\n",
       "      <td>27.8</td>\n",
       "      <td>A</td>\n",
       "    </tr>\n",
       "    <tr>\n",
       "      <th>5</th>\n",
       "      <td>USGS</td>\n",
       "      <td>02085070</td>\n",
       "      <td>2018-10-10 01:00</td>\n",
       "      <td>EDT</td>\n",
       "      <td>27.8</td>\n",
       "      <td>A</td>\n",
       "    </tr>\n",
       "  </tbody>\n",
       "</table>\n",
       "</div>"
      ],
      "text/plain": [
       "  agency_cd   site_no          datetime tz_cd 89062_00060 89062_00060_cd\n",
       "1      USGS  02085070  2018-10-10 00:00   EDT        27.8              A\n",
       "2      USGS  02085070  2018-10-10 00:15   EDT        27.8              A\n",
       "3      USGS  02085070  2018-10-10 00:30   EDT        27.8              A\n",
       "4      USGS  02085070  2018-10-10 00:45   EDT        27.8              A\n",
       "5      USGS  02085070  2018-10-10 01:00   EDT        27.8              A"
      ]
     },
     "execution_count": 11,
     "metadata": {},
     "output_type": "execute_result"
    }
   ],
   "source": [
    "#Show the first 5 records of the dataframe\n",
    "df.head()"
   ]
  },
  {
   "cell_type": "markdown",
   "metadata": {},
   "source": [
    "### Plotting data (_Demo_)\n",
    "The data you just obtained includes discharge data for the Eno River near Durham just as Hurricane Michael hit.  \n",
    "\n",
    "As a reward for successfully importing your data, let's plot it. First, however, we need to make some tweaks to the data. The code below renames the cryptic USGS column names, converts the discharge  to floating point, and sets the dataframe's index to the datetime column, allowing us to construct lineplots.."
   ]
  },
  {
   "cell_type": "code",
   "execution_count": 21,
   "metadata": {},
   "outputs": [
    {
     "name": "stdout",
     "output_type": "stream",
     "text": [
      "<class 'pandas.core.frame.DataFrame'>\n",
      "DatetimeIndex: 384 entries, 2018-10-10 00:00:00 to 2018-10-13 23:45:00\n",
      "Data columns (total 6 columns):\n",
      " #   Column         Non-Null Count  Dtype  \n",
      "---  ------         --------------  -----  \n",
      " 0   agency         384 non-null    object \n",
      " 1   site_no        384 non-null    object \n",
      " 2   datetime       384 non-null    object \n",
      " 3   tz_cd          384 non-null    object \n",
      " 4   Discharge_cfs  384 non-null    float64\n",
      " 5   Discharge_cd   384 non-null    object \n",
      "dtypes: float64(1), object(5)\n",
      "memory usage: 21.0+ KB\n"
     ]
    }
   ],
   "source": [
    "#Reveal the data format of our dataframe\n",
    "df.info()"
   ]
  },
  {
   "cell_type": "code",
   "execution_count": 35,
   "metadata": {},
   "outputs": [
    {
     "data": {
      "text/html": [
       "<div>\n",
       "<style scoped>\n",
       "    .dataframe tbody tr th:only-of-type {\n",
       "        vertical-align: middle;\n",
       "    }\n",
       "\n",
       "    .dataframe tbody tr th {\n",
       "        vertical-align: top;\n",
       "    }\n",
       "\n",
       "    .dataframe thead th {\n",
       "        text-align: right;\n",
       "    }\n",
       "</style>\n",
       "<table border=\"1\" class=\"dataframe\">\n",
       "  <thead>\n",
       "    <tr style=\"text-align: right;\">\n",
       "      <th></th>\n",
       "      <th>agency</th>\n",
       "      <th>site_no</th>\n",
       "      <th>datetime</th>\n",
       "      <th>tz_cd</th>\n",
       "      <th>Discharge_cfs</th>\n",
       "      <th>Discharge_cd</th>\n",
       "    </tr>\n",
       "    <tr>\n",
       "      <th>datetime</th>\n",
       "      <th></th>\n",
       "      <th></th>\n",
       "      <th></th>\n",
       "      <th></th>\n",
       "      <th></th>\n",
       "      <th></th>\n",
       "    </tr>\n",
       "  </thead>\n",
       "  <tbody>\n",
       "    <tr>\n",
       "      <th>2018-10-10 00:00:00</th>\n",
       "      <td>USGS</td>\n",
       "      <td>02085070</td>\n",
       "      <td>2018-10-10 00:00</td>\n",
       "      <td>EDT</td>\n",
       "      <td>27.8</td>\n",
       "      <td>A</td>\n",
       "    </tr>\n",
       "    <tr>\n",
       "      <th>2018-10-10 00:15:00</th>\n",
       "      <td>USGS</td>\n",
       "      <td>02085070</td>\n",
       "      <td>2018-10-10 00:15</td>\n",
       "      <td>EDT</td>\n",
       "      <td>27.8</td>\n",
       "      <td>A</td>\n",
       "    </tr>\n",
       "    <tr>\n",
       "      <th>2018-10-10 00:30:00</th>\n",
       "      <td>USGS</td>\n",
       "      <td>02085070</td>\n",
       "      <td>2018-10-10 00:30</td>\n",
       "      <td>EDT</td>\n",
       "      <td>27.8</td>\n",
       "      <td>A</td>\n",
       "    </tr>\n",
       "    <tr>\n",
       "      <th>2018-10-10 00:45:00</th>\n",
       "      <td>USGS</td>\n",
       "      <td>02085070</td>\n",
       "      <td>2018-10-10 00:45</td>\n",
       "      <td>EDT</td>\n",
       "      <td>27.8</td>\n",
       "      <td>A</td>\n",
       "    </tr>\n",
       "    <tr>\n",
       "      <th>2018-10-10 01:00:00</th>\n",
       "      <td>USGS</td>\n",
       "      <td>02085070</td>\n",
       "      <td>2018-10-10 01:00</td>\n",
       "      <td>EDT</td>\n",
       "      <td>27.8</td>\n",
       "      <td>A</td>\n",
       "    </tr>\n",
       "  </tbody>\n",
       "</table>\n",
       "</div>"
      ],
      "text/plain": [
       "                    agency   site_no          datetime tz_cd  Discharge_cfs  \\\n",
       "datetime                                                                      \n",
       "2018-10-10 00:00:00   USGS  02085070  2018-10-10 00:00   EDT           27.8   \n",
       "2018-10-10 00:15:00   USGS  02085070  2018-10-10 00:15   EDT           27.8   \n",
       "2018-10-10 00:30:00   USGS  02085070  2018-10-10 00:30   EDT           27.8   \n",
       "2018-10-10 00:45:00   USGS  02085070  2018-10-10 00:45   EDT           27.8   \n",
       "2018-10-10 01:00:00   USGS  02085070  2018-10-10 01:00   EDT           27.8   \n",
       "\n",
       "                    Discharge_cd  \n",
       "datetime                          \n",
       "2018-10-10 00:00:00            A  \n",
       "2018-10-10 00:15:00            A  \n",
       "2018-10-10 00:30:00            A  \n",
       "2018-10-10 00:45:00            A  \n",
       "2018-10-10 01:00:00            A  "
      ]
     },
     "execution_count": 35,
     "metadata": {},
     "output_type": "execute_result"
    }
   ],
   "source": [
    "#Rename the columns\n",
    "df.columns = ['agency','site_no','datetime','tz_cd','Discharge_cfs','Discharge_cd']\n",
    "\n",
    "#Convert the data types of value columns\n",
    "df['Discharge_cfs'] = df['Discharge_cfs'].astype('float')\n",
    "#Set the index as the datetime column, converted to a datetime object\n",
    "df.index = pd.to_datetime(df['datetime'])\n",
    "df.head()"
   ]
  },
  {
   "cell_type": "markdown",
   "metadata": {},
   "source": [
    "Now we'll plot the data. Can you tell when the hurricane came through?"
   ]
  },
  {
   "cell_type": "code",
   "execution_count": 19,
   "metadata": {},
   "outputs": [
    {
     "data": {
      "image/png": "[encoded data removed]",
      "text/plain": [
       "<Figure size 640x480 with 1 Axes>"
      ]
     },
     "metadata": {},
     "output_type": "display_data"
    }
   ],
   "source": [
    "#Plot the discharge data\n",
    "df['Discharge_cfs'].plot(grid=True);"
   ]
  },
  {
   "cell_type": "markdown",
   "metadata": {},
   "source": [
    "### Task 2b. Saving a dataframe to a local csv file\n",
    "Save your dataframe to a csv file named `NWISDischarge.csv` in your data folder. (You may opt to keep the index column in your output file or not...) "
   ]
  },
  {
   "cell_type": "code",
   "execution_count": 20,
   "metadata": {},
   "outputs": [],
   "source": [
    "#Save the file to a local csv\n",
    "df.to_csv('../data/NWISDischarge.csv',index=False)"
   ]
  },
  {
   "cell_type": "markdown",
   "metadata": {},
   "source": [
    "## Challenge\n",
    "\n",
    "Create the same plot above, but for a gage near New Bern, NC (Gage ID: `02091814`) over the period that Hurricane Florence's impact was felt (Sept 11, 2018 - Oct 04, 2018)."
   ]
  },
  {
   "cell_type": "code",
   "execution_count": 47,
   "metadata": {},
   "outputs": [],
   "source": [
    "theNURL = 'https://nwis.waterdata.usgs.gov/usa/nwis/uv/?cb_00060=on&format=rdb&begin_date=2018-09-11&end_date=2018-10-04&site_no=02091814'\n",
    "dfN=pd.read_csv(theNURL, delimiter='\\t', comment='#')\n",
    "dfN.drop(0,axis='rows',inplace=True)\n",
    "dfN.columns = ['agency','site_no','datetime','tz_cd','Discharge_cfs','Discharge_cd']\n",
    "\n",
    "#Convert the data types of value columns\n",
    "dfN['Discharge_cfs'] = dfN['Discharge_cfs'].astype('float')\n",
    "#Set the index as the datetime column, converted to a datetime object\n",
    "dfN.index = pd.to_datetime(dfN['datetime'])"
   ]
  },
  {
   "cell_type": "code",
   "execution_count": 48,
   "metadata": {},
   "outputs": [
    {
     "data": {
      "image/png": "[encoded data removed]",
      "text/plain": [
       "<Figure size 640x480 with 1 Axes>"
      ]
     },
     "metadata": {},
     "output_type": "display_data"
    }
   ],
   "source": [
    "dfN['Discharge_cfs'].plot(grid=True);"
   ]
  },
  {
   "cell_type": "code",
   "execution_count": null,
   "metadata": {},
   "outputs": [],
   "source": []
  }
 ],
 "metadata": {
  "kernelspec": {
   "display_name": "Python 3 (ipykernel)",
   "language": "python",
   "name": "python3"
  },
  "language_info": {
   "codemirror_mode": {
    "name": "ipython",
    "version": 3
   },
   "file_extension": ".py",
   "mimetype": "text/x-python",
   "name": "python",
   "nbconvert_exporter": "python",
   "pygments_lexer": "ipython3",
   "version": "3.11.0"
  }
 },
 "nbformat": 4,
 "nbformat_minor": 2
}
